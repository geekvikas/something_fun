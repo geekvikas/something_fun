{
  "metadata": {
    "kernelspec": {
      "name": "python",
      "display_name": "Python (Pyodide)",
      "language": "python"
    },
    "language_info": {
      "codemirror_mode": {
        "name": "python",
        "version": 3
      },
      "file_extension": ".py",
      "mimetype": "text/x-python",
      "name": "python",
      "nbconvert_exporter": "python",
      "pygments_lexer": "ipython3",
      "version": "3.8"
    }
  },
  "nbformat_minor": 5,
  "nbformat": 4,
  "cells": [
    {
      "id": "b1e0d616-c168-4b99-bd5e-055743d5be35",
      "cell_type": "code",
      "source": "slow_storage = {\"a\":1,\"b\":1,\"c\":2,\"d\":2,\"e\":3,\"f\":3}\nfast_storage = {}\nlowest_rank = float('inf')\ncache_by_ranks = {}\ncapacity = 5\n\ndef get(key):\n    global lowest_rank\n    # cache has key, return it\n    if key in fast_storage:\n        return fast_storage[key]\n\n    # data is not cached, get it from slow_storage, default rank is 0\n    rank = slow_storage.get(key, 0)\n    lowest_rank = min(lowest_rank, rank)\n    \n    # if fast_storage is at capacity, remove the least priority one first\n    if len(fast_storage) == capacity:\n        keys_by_rank = cache_by_ranks.get(lowest_rank,[])\n        key_to_remove = keys_by_rank.pop()\n        del fast_storage[key_to_remove]\n\n    # finally, store the key to fast store\n    # capture the rank/key mapping\n    fast_storage[key] = rank\n    keys_by_rank = cache_by_ranks.get(rank,[])\n    keys_by_rank.append(key)\n    cache_by_ranks[rank] = keys_by_rank\n\n    return rank\n\ndef get_with_helper(key):\n    print(\"BEFORE - GET\", key, \"Fast Storage: \", fast_storage, \"Current Size: \", len(fast_storage))\n    get(key)\n    print(\"AFTER - GET\", key, \"Fast Storage: \", fast_storage, \"Current Size: \", len(fast_storage))\n    print()\n    \n\nget_with_helper(\"a\")\nget_with_helper(\"b\")\nget_with_helper(\"c\")\nget_with_helper(\"d\")\nget_with_helper(\"e\")\nget_with_helper(\"f\")\n",
      "metadata": {
        "trusted": true
      },
      "outputs": [
        {
          "name": "stdout",
          "output_type": "stream",
          "text": "BEFORE - GET a Fast Storage:  {} Current Size:  0\nAFTER - GET a Fast Storage:  {'a': 1} Current Size:  1\n\nBEFORE - GET b Fast Storage:  {'a': 1} Current Size:  1\nAFTER - GET b Fast Storage:  {'a': 1, 'b': 1} Current Size:  2\n\nBEFORE - GET c Fast Storage:  {'a': 1, 'b': 1} Current Size:  2\nAFTER - GET c Fast Storage:  {'a': 1, 'b': 1, 'c': 2} Current Size:  3\n\nBEFORE - GET d Fast Storage:  {'a': 1, 'b': 1, 'c': 2} Current Size:  3\nAFTER - GET d Fast Storage:  {'a': 1, 'b': 1, 'c': 2, 'd': 2} Current Size:  4\n\nBEFORE - GET e Fast Storage:  {'a': 1, 'b': 1, 'c': 2, 'd': 2} Current Size:  4\nAFTER - GET e Fast Storage:  {'a': 1, 'b': 1, 'c': 2, 'd': 2, 'e': 3} Current Size:  5\n\nBEFORE - GET f Fast Storage:  {'a': 1, 'b': 1, 'c': 2, 'd': 2, 'e': 3} Current Size:  5\nAFTER - GET f Fast Storage:  {'a': 1, 'c': 2, 'd': 2, 'e': 3, 'f': 3} Current Size:  5\n\n"
        }
      ],
      "execution_count": 31
    },
    {
      "id": "49c0c236-ad2c-41b1-bf16-b3e267719a47",
      "cell_type": "code",
      "source": "",
      "metadata": {
        "trusted": true
      },
      "outputs": [],
      "execution_count": null
    }
  ]
}